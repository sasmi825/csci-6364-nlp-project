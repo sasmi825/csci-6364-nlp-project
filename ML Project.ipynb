{
 "cells": [
  {
   "cell_type": "markdown",
   "id": "438b62cb",
   "metadata": {},
   "source": [
    "# CSCI-6364 Final Project\n",
    "# Data \n",
    "## Analysis"
   ]
  },
  {
   "cell_type": "code",
   "execution_count": 1,
   "id": "a29b374a",
   "metadata": {},
   "outputs": [],
   "source": [
    "import pandas as pd\n",
    "import numpy as np"
   ]
  },
  {
   "cell_type": "code",
   "execution_count": 2,
   "id": "c3cf677c",
   "metadata": {},
   "outputs": [],
   "source": [
    "df = pd.read_json(\"./data/train.jsonl\", lines=True)\n",
    "df_val = pd.read_json(\"./data/validation.jsonl\", lines=True)\n",
    "df_test = pd.read_json(\"./data/test.jsonl\", lines=True)"
   ]
  },
  {
   "cell_type": "code",
   "execution_count": 3,
   "id": "02083e31",
   "metadata": {},
   "outputs": [
    {
     "data": {
      "text/html": [
       "<div>\n",
       "<style scoped>\n",
       "    .dataframe tbody tr th:only-of-type {\n",
       "        vertical-align: middle;\n",
       "    }\n",
       "\n",
       "    .dataframe tbody tr th {\n",
       "        vertical-align: top;\n",
       "    }\n",
       "\n",
       "    .dataframe thead th {\n",
       "        text-align: right;\n",
       "    }\n",
       "</style>\n",
       "<table border=\"1\" class=\"dataframe\">\n",
       "  <thead>\n",
       "    <tr style=\"text-align: right;\">\n",
       "      <th></th>\n",
       "      <th>text</th>\n",
       "      <th>label</th>\n",
       "      <th>label_text</th>\n",
       "    </tr>\n",
       "  </thead>\n",
       "  <tbody>\n",
       "    <tr>\n",
       "      <th>0</th>\n",
       "      <td>i didnt feel humiliated</td>\n",
       "      <td>0</td>\n",
       "      <td>sadness</td>\n",
       "    </tr>\n",
       "    <tr>\n",
       "      <th>1</th>\n",
       "      <td>i can go from feeling so hopeless to so damned...</td>\n",
       "      <td>0</td>\n",
       "      <td>sadness</td>\n",
       "    </tr>\n",
       "    <tr>\n",
       "      <th>2</th>\n",
       "      <td>im grabbing a minute to post i feel greedy wrong</td>\n",
       "      <td>3</td>\n",
       "      <td>anger</td>\n",
       "    </tr>\n",
       "    <tr>\n",
       "      <th>3</th>\n",
       "      <td>i am ever feeling nostalgic about the fireplac...</td>\n",
       "      <td>2</td>\n",
       "      <td>love</td>\n",
       "    </tr>\n",
       "    <tr>\n",
       "      <th>4</th>\n",
       "      <td>i am feeling grouchy</td>\n",
       "      <td>3</td>\n",
       "      <td>anger</td>\n",
       "    </tr>\n",
       "  </tbody>\n",
       "</table>\n",
       "</div>"
      ],
      "text/plain": [
       "                                                text  label label_text\n",
       "0                            i didnt feel humiliated      0    sadness\n",
       "1  i can go from feeling so hopeless to so damned...      0    sadness\n",
       "2   im grabbing a minute to post i feel greedy wrong      3      anger\n",
       "3  i am ever feeling nostalgic about the fireplac...      2       love\n",
       "4                               i am feeling grouchy      3      anger"
      ]
     },
     "execution_count": 3,
     "metadata": {},
     "output_type": "execute_result"
    }
   ],
   "source": [
    "df.head()"
   ]
  },
  {
   "cell_type": "code",
   "execution_count": 4,
   "id": "5659e62f",
   "metadata": {},
   "outputs": [
    {
     "name": "stdout",
     "output_type": "stream",
     "text": [
      "Training samples: 16000,\n",
      "validation samples: 2000\n",
      "Test Samples: 2000\n"
     ]
    }
   ],
   "source": [
    "print(f\"Training samples: {len(df)},\\nvalidation samples: {len(df_val)}\\nTest Samples: {len(df_test)}\")"
   ]
  },
  {
   "cell_type": "code",
   "execution_count": 5,
   "id": "4809da7c",
   "metadata": {},
   "outputs": [
    {
     "name": "stdout",
     "output_type": "stream",
     "text": [
      "Target variable distribution in training set: \n",
      "{'joy': 5362, 'sadness': 4666, 'anger': 2159, 'fear': 1937, 'love': 1304, 'surprise': 572}\n"
     ]
    }
   ],
   "source": [
    "print(\"Target variable distribution in training set: \")\n",
    "print(df.label_text.value_counts().to_dict())"
   ]
  },
  {
   "cell_type": "code",
   "execution_count": 6,
   "id": "da7ad80d",
   "metadata": {},
   "outputs": [
    {
     "name": "stdout",
     "output_type": "stream",
     "text": [
      "Unique labels \n",
      "['sadness' 'anger' 'love' 'surprise' 'fear' 'joy']\n"
     ]
    }
   ],
   "source": [
    "print(\"Unique labels \")\n",
    "print(df.label_text.unique())"
   ]
  },
  {
   "cell_type": "code",
   "execution_count": null,
   "id": "aa1ecc01",
   "metadata": {},
   "outputs": [],
   "source": []
  },
  {
   "cell_type": "markdown",
   "id": "716d1316",
   "metadata": {},
   "source": [
    "## Data Pre-Processing \n",
    "### Bag of Words and TF-IDF representations"
   ]
  },
  {
   "cell_type": "code",
   "execution_count": 7,
   "id": "457ecd34",
   "metadata": {},
   "outputs": [],
   "source": [
    "import nltk\n",
    "from nltk.corpus import stopwords\n",
    "from nltk.tokenize import word_tokenize\n",
    "from nltk import PorterStemmer, WordNetLemmatizer"
   ]
  },
  {
   "cell_type": "code",
   "execution_count": 8,
   "id": "57993cc4",
   "metadata": {},
   "outputs": [
    {
     "name": "stderr",
     "output_type": "stream",
     "text": [
      "[nltk_data] Downloading package stopwords to\n",
      "[nltk_data]     /home/diadochus/nltk_data...\n",
      "[nltk_data]   Package stopwords is already up-to-date!\n",
      "[nltk_data] Downloading package wordnet to\n",
      "[nltk_data]     /home/diadochus/nltk_data...\n",
      "[nltk_data]   Package wordnet is already up-to-date!\n"
     ]
    },
    {
     "data": {
      "text/plain": [
       "True"
      ]
     },
     "execution_count": 8,
     "metadata": {},
     "output_type": "execute_result"
    }
   ],
   "source": [
    "nltk.download('stopwords')\n",
    "nltk.download('wordnet')"
   ]
  },
  {
   "cell_type": "code",
   "execution_count": 9,
   "id": "1e8e23c7",
   "metadata": {},
   "outputs": [],
   "source": [
    "STOP_WORDS = set(stopwords.words(\"english\"))"
   ]
  },
  {
   "cell_type": "code",
   "execution_count": 10,
   "id": "f08b65bd",
   "metadata": {},
   "outputs": [],
   "source": [
    "# words are converted into shorten root words to remove redundancy\n",
    "# STEMMER = PorterStemmer()\n",
    "# Stemming produces Intermediate representation of word. It may or may not return meaningful word.\n",
    "LEMMATIZER = WordNetLemmatizer()"
   ]
  },
  {
   "cell_type": "code",
   "execution_count": 11,
   "id": "239ab91f",
   "metadata": {},
   "outputs": [],
   "source": [
    "def preprocessing(sentence: str):\n",
    "    # convert to lower case and tokenize words\n",
    "    word_tokens = word_tokenize(sentence.lower())\n",
    "    # remove stop words from the sentence.\n",
    "    filtered_sentence = [w for w in word_tokens if not w in STOP_WORDS]\n",
    "    # Stemming\n",
    "    # filtered_sentence = [STEMMER.stem(w) for w in filtered_sentence]\n",
    "    # Lemmatization\n",
    "    filtered_sentence = [LEMMATIZER.lemmatize(w) for w in filtered_sentence]\n",
    "    \n",
    "    return \" \".join(filtered_sentence)"
   ]
  },
  {
   "cell_type": "code",
   "execution_count": 12,
   "id": "cc417768",
   "metadata": {},
   "outputs": [
    {
     "name": "stdout",
     "output_type": "stream",
     "text": [
      "Unprocessed text: \n",
      "\n",
      " i can go from feeling so hopeless to so damned hopeful just from being around someone who cares and is awake\n"
     ]
    }
   ],
   "source": [
    "# input text\n",
    "print(\"Unprocessed text: \\n\\n\", df.text.iloc[1]) "
   ]
  },
  {
   "cell_type": "code",
   "execution_count": 13,
   "id": "e59eb539",
   "metadata": {},
   "outputs": [
    {
     "name": "stdout",
     "output_type": "stream",
     "text": [
      "Processed text: \n",
      "\n",
      " go feeling hopeless damned hopeful around someone care awake\n"
     ]
    }
   ],
   "source": [
    "# processed text\n",
    "print(\"Processed text: \\n\\n\", preprocessing(df.text.iloc[1])) "
   ]
  },
  {
   "cell_type": "code",
   "execution_count": 14,
   "id": "51dae610",
   "metadata": {},
   "outputs": [],
   "source": [
    "df = df.assign(processed_text=df.text.apply(lambda x: preprocessing(x)))\n",
    "df_val = df_val.assign(processed_text=df_val.text.apply(lambda x: preprocessing(x)))\n",
    "df_test = df_test.assign(processed_text=df_test.text.apply(lambda x: preprocessing(x)))"
   ]
  },
  {
   "cell_type": "code",
   "execution_count": 15,
   "id": "67c9f3a0",
   "metadata": {},
   "outputs": [
    {
     "data": {
      "text/html": [
       "<div>\n",
       "<style scoped>\n",
       "    .dataframe tbody tr th:only-of-type {\n",
       "        vertical-align: middle;\n",
       "    }\n",
       "\n",
       "    .dataframe tbody tr th {\n",
       "        vertical-align: top;\n",
       "    }\n",
       "\n",
       "    .dataframe thead th {\n",
       "        text-align: right;\n",
       "    }\n",
       "</style>\n",
       "<table border=\"1\" class=\"dataframe\">\n",
       "  <thead>\n",
       "    <tr style=\"text-align: right;\">\n",
       "      <th></th>\n",
       "      <th>text</th>\n",
       "      <th>label</th>\n",
       "      <th>label_text</th>\n",
       "      <th>processed_text</th>\n",
       "    </tr>\n",
       "  </thead>\n",
       "  <tbody>\n",
       "    <tr>\n",
       "      <th>0</th>\n",
       "      <td>i didnt feel humiliated</td>\n",
       "      <td>0</td>\n",
       "      <td>sadness</td>\n",
       "      <td>didnt feel humiliated</td>\n",
       "    </tr>\n",
       "    <tr>\n",
       "      <th>1</th>\n",
       "      <td>i can go from feeling so hopeless to so damned...</td>\n",
       "      <td>0</td>\n",
       "      <td>sadness</td>\n",
       "      <td>go feeling hopeless damned hopeful around some...</td>\n",
       "    </tr>\n",
       "    <tr>\n",
       "      <th>2</th>\n",
       "      <td>im grabbing a minute to post i feel greedy wrong</td>\n",
       "      <td>3</td>\n",
       "      <td>anger</td>\n",
       "      <td>im grabbing minute post feel greedy wrong</td>\n",
       "    </tr>\n",
       "    <tr>\n",
       "      <th>3</th>\n",
       "      <td>i am ever feeling nostalgic about the fireplac...</td>\n",
       "      <td>2</td>\n",
       "      <td>love</td>\n",
       "      <td>ever feeling nostalgic fireplace know still pr...</td>\n",
       "    </tr>\n",
       "    <tr>\n",
       "      <th>4</th>\n",
       "      <td>i am feeling grouchy</td>\n",
       "      <td>3</td>\n",
       "      <td>anger</td>\n",
       "      <td>feeling grouchy</td>\n",
       "    </tr>\n",
       "  </tbody>\n",
       "</table>\n",
       "</div>"
      ],
      "text/plain": [
       "                                                text  label label_text  \\\n",
       "0                            i didnt feel humiliated      0    sadness   \n",
       "1  i can go from feeling so hopeless to so damned...      0    sadness   \n",
       "2   im grabbing a minute to post i feel greedy wrong      3      anger   \n",
       "3  i am ever feeling nostalgic about the fireplac...      2       love   \n",
       "4                               i am feeling grouchy      3      anger   \n",
       "\n",
       "                                      processed_text  \n",
       "0                              didnt feel humiliated  \n",
       "1  go feeling hopeless damned hopeful around some...  \n",
       "2          im grabbing minute post feel greedy wrong  \n",
       "3  ever feeling nostalgic fireplace know still pr...  \n",
       "4                                    feeling grouchy  "
      ]
     },
     "execution_count": 15,
     "metadata": {},
     "output_type": "execute_result"
    }
   ],
   "source": [
    "df.head()"
   ]
  },
  {
   "cell_type": "markdown",
   "id": "27b44528",
   "metadata": {},
   "source": [
    "### Simple Features: Bag of Words and TF-IDF"
   ]
  },
  {
   "cell_type": "code",
   "execution_count": 15,
   "id": "8fa8b694",
   "metadata": {},
   "outputs": [],
   "source": [
    "from sklearn.feature_extraction.text import CountVectorizer, TfidfVectorizer"
   ]
  },
  {
   "cell_type": "code",
   "execution_count": 16,
   "id": "b2ab7168",
   "metadata": {},
   "outputs": [],
   "source": [
    "def get_simple_features(\n",
    "    vectorizer,  # Bag of words or TF-IDF vectorizer\n",
    "    df_train,\n",
    "    df_validation,\n",
    "    df_test,\n",
    "    text_col=\"processed_text\", \n",
    "    label_col=\"label\"\n",
    ") -> dict:\n",
    "    \"\"\"Transforms text data to BOW or TF-IDF representation.\"\"\"\n",
    "    # fit and transform training data\n",
    "    X = vectorizer.fit_transform(df_train[text_col].tolist()) \n",
    "    X_train = X.toarray()\n",
    "    y_train = df_train[label_col].to_numpy()\n",
    "    \n",
    "    # generate validation data\n",
    "    X_val = vectorizer.transform(df_validation[text_col].tolist())\n",
    "    X_val = X_val.toarray()\n",
    "    y_val = df_validation[label_col].to_numpy()\n",
    "    \n",
    "    # generate test data\n",
    "    X_test = vectorizer.transform(df_test[text_col].tolist())\n",
    "    X_test = X_test.toarray()\n",
    "    y_test = df_test[label_col].to_numpy()\n",
    "    \n",
    "    return_dict = {\n",
    "        \"train\": {\"x\": X_train, \"y\": y_train},\n",
    "        \"validation\": {\"x\": X_val, \"y\": y_val},\n",
    "        \"test\": {\"x\": X_test, \"y\": y_test},\n",
    "    }\n",
    "    \n",
    "    return return_dict"
   ]
  },
  {
   "cell_type": "code",
   "execution_count": 17,
   "id": "89e5a4d3",
   "metadata": {},
   "outputs": [],
   "source": [
    "# get Bag-of-Words representations\n",
    "bow_dataset = get_simple_features(\n",
    "    vectorizer=CountVectorizer(),\n",
    "    df_train=df,\n",
    "    df_validation=df_val,\n",
    "    df_test=df_test\n",
    ")"
   ]
  },
  {
   "cell_type": "code",
   "execution_count": 18,
   "id": "1060b08f",
   "metadata": {},
   "outputs": [],
   "source": [
    "# get Bag-of-Words representations\n",
    "tfidf_dataset = get_simple_features(\n",
    "    vectorizer=TfidfVectorizer(),\n",
    "    df_train=df,\n",
    "    df_validation=df_val,\n",
    "    df_test=df_test\n",
    ")"
   ]
  },
  {
   "cell_type": "code",
   "execution_count": 202,
   "id": "293b557b",
   "metadata": {},
   "outputs": [],
   "source": [
    "# save the data as pickle files.\n",
    "import pickle\n",
    "\n",
    "with open(\"./data/bow.pickle\", \"wb\") as handle:\n",
    "    pickle.dump(bow_dataset, handle, protocol=pickle.HIGHEST_PROTOCOL)\n",
    "    \n",
    "with open(\"./data/tfidf.pickle\", \"wb\") as handle:\n",
    "    pickle.dump(tfidf_dataset, handle, protocol=pickle.HIGHEST_PROTOCOL)\n",
    "\n",
    "#with open(\"./data/bow.pickle\", \"rb\") as handle:\n",
    "#    bow_dataset = pickle.load(handle)"
   ]
  },
  {
   "cell_type": "markdown",
   "id": "6d68b5ab",
   "metadata": {},
   "source": [
    "### Embedding Features: get sentence embedding"
   ]
  },
  {
   "cell_type": "code",
   "execution_count": 6,
   "id": "1670062a",
   "metadata": {},
   "outputs": [],
   "source": [
    "from sentence_transformers import SentenceTransformer"
   ]
  },
  {
   "cell_type": "code",
   "execution_count": 14,
   "id": "056759c0",
   "metadata": {},
   "outputs": [],
   "source": [
    "def get_sent_embedding_features(\n",
    "    df_train,\n",
    "    df_validation,\n",
    "    df_test,\n",
    "    text_col=\"text\", \n",
    "    label_col=\"label\"\n",
    ") -> dict:\n",
    "    # initialize the model \n",
    "    vectorizer = SentenceTransformer(\"all-MiniLM-L6-v2\")\n",
    "    \n",
    "    \"\"\"Transforms text data to BOW or TF-IDF representation.\"\"\"\n",
    "    # fit and transform training data\n",
    "    X_train = vectorizer.encode(df_train[text_col].tolist()) \n",
    "    y_train = df_train[label_col].to_numpy()\n",
    "    \n",
    "    # generate validation data\n",
    "    X_val = vectorizer.encode(df_validation[text_col].tolist())\n",
    "    y_val = df_validation[label_col].to_numpy()\n",
    "    \n",
    "    # generate test data\n",
    "    X_test = vectorizer.encode(df_test[text_col].tolist())\n",
    "    y_test = df_test[label_col].to_numpy()\n",
    "    \n",
    "    return_dict = {\n",
    "        \"train\": {\"x\": X_train, \"y\": y_train},\n",
    "        \"validation\": {\"x\": X_val, \"y\": y_val},\n",
    "        \"test\": {\"x\": X_test, \"y\": y_test},\n",
    "    }\n",
    "    \n",
    "    return return_dict"
   ]
  },
  {
   "cell_type": "code",
   "execution_count": 17,
   "id": "6499c2e1",
   "metadata": {},
   "outputs": [],
   "source": [
    "# get Bag-of-Words representations\n",
    "semb_dataset = get_sent_embedding_features(\n",
    "    df_train=df,\n",
    "    df_validation=df_val,\n",
    "    df_test=df_test\n",
    ")"
   ]
  },
  {
   "cell_type": "code",
   "execution_count": 19,
   "id": "95255d21",
   "metadata": {},
   "outputs": [],
   "source": [
    "# save data as pickle file\n",
    "import pickle\n",
    "\n",
    "with open(\"./data/sent_emb.pickle\", \"wb\") as handle:\n",
    "    pickle.dump(semb_dataset, handle, protocol=pickle.HIGHEST_PROTOCOL)"
   ]
  },
  {
   "cell_type": "code",
   "execution_count": null,
   "id": "e5de2dbe",
   "metadata": {},
   "outputs": [],
   "source": []
  },
  {
   "cell_type": "markdown",
   "id": "70af3966",
   "metadata": {},
   "source": [
    "# Models"
   ]
  },
  {
   "cell_type": "markdown",
   "id": "a93bd4db",
   "metadata": {},
   "source": [
    "## Naive Bayes"
   ]
  },
  {
   "cell_type": "code",
   "execution_count": 19,
   "id": "6266378a",
   "metadata": {},
   "outputs": [],
   "source": [
    "from sklearn.naive_bayes import GaussianNB, BernoulliNB\n",
    "from sklearn.metrics import classification_report, f1_score"
   ]
  },
  {
   "cell_type": "code",
   "execution_count": 27,
   "id": "8d9b5c7b",
   "metadata": {},
   "outputs": [
    {
     "name": "stdout",
     "output_type": "stream",
     "text": [
      "              precision    recall  f1-score   support\n",
      "\n",
      "           0       0.40      0.23      0.29       550\n",
      "           1       0.54      0.23      0.32       704\n",
      "           2       0.18      0.42      0.25       178\n",
      "           3       0.31      0.31      0.31       275\n",
      "           4       0.21      0.38      0.27       212\n",
      "           5       0.11      0.42      0.17        81\n",
      "\n",
      "    accuracy                           0.28      2000\n",
      "   macro avg       0.29      0.33      0.27      2000\n",
      "weighted avg       0.38      0.28      0.29      2000\n",
      "\n"
     ]
    }
   ],
   "source": [
    "clf = GaussianNB()\n",
    "clf.fit(tfidf_dataset[\"train\"][\"x\"], tfidf_dataset[\"train\"][\"y\"])\n",
    "nb_predictions = clf.predict(tfidf_dataset[\"validation\"][\"x\"])\n",
    "print(classification_report(tfidf_dataset[\"validation\"][\"y\"], nb_predictions))"
   ]
  },
  {
   "cell_type": "code",
   "execution_count": 28,
   "id": "51256a87",
   "metadata": {},
   "outputs": [
    {
     "name": "stdout",
     "output_type": "stream",
     "text": [
      "              precision    recall  f1-score   support\n",
      "\n",
      "           0       0.64      0.94      0.76       550\n",
      "           1       0.71      0.93      0.80       704\n",
      "           2       0.68      0.10      0.17       178\n",
      "           3       0.88      0.45      0.60       275\n",
      "           4       0.85      0.41      0.55       212\n",
      "           5       0.00      0.00      0.00        81\n",
      "\n",
      "    accuracy                           0.70      2000\n",
      "   macro avg       0.63      0.47      0.48      2000\n",
      "weighted avg       0.70      0.70      0.65      2000\n",
      "\n"
     ]
    }
   ],
   "source": [
    "clf = BernoulliNB()\n",
    "clf.fit(tfidf_dataset[\"train\"][\"x\"], tfidf_dataset[\"train\"][\"y\"])\n",
    "nb_predictions = clf.predict(tfidf_dataset[\"validation\"][\"x\"])\n",
    "print(classification_report(tfidf_dataset[\"validation\"][\"y\"], nb_predictions))"
   ]
  },
  {
   "cell_type": "code",
   "execution_count": 29,
   "id": "c9b58f64",
   "metadata": {
    "scrolled": false
   },
   "outputs": [
    {
     "name": "stdout",
     "output_type": "stream",
     "text": [
      "              precision    recall  f1-score   support\n",
      "\n",
      "           0       0.65      0.91      0.76       581\n",
      "           1       0.71      0.96      0.81       695\n",
      "           2       0.79      0.09      0.17       159\n",
      "           3       0.82      0.45      0.58       275\n",
      "           4       0.78      0.29      0.42       224\n",
      "           5       0.00      0.00      0.00        66\n",
      "\n",
      "    accuracy                           0.70      2000\n",
      "   macro avg       0.63      0.45      0.46      2000\n",
      "weighted avg       0.70      0.70      0.65      2000\n",
      "\n"
     ]
    },
    {
     "name": "stderr",
     "output_type": "stream",
     "text": [
      "/home/diadochus/anaconda3/envs/hug/lib/python3.12/site-packages/sklearn/metrics/_classification.py:1509: UndefinedMetricWarning: Precision is ill-defined and being set to 0.0 in labels with no predicted samples. Use `zero_division` parameter to control this behavior.\n",
      "  _warn_prf(average, modifier, f\"{metric.capitalize()} is\", len(result))\n",
      "/home/diadochus/anaconda3/envs/hug/lib/python3.12/site-packages/sklearn/metrics/_classification.py:1509: UndefinedMetricWarning: Precision is ill-defined and being set to 0.0 in labels with no predicted samples. Use `zero_division` parameter to control this behavior.\n",
      "  _warn_prf(average, modifier, f\"{metric.capitalize()} is\", len(result))\n",
      "/home/diadochus/anaconda3/envs/hug/lib/python3.12/site-packages/sklearn/metrics/_classification.py:1509: UndefinedMetricWarning: Precision is ill-defined and being set to 0.0 in labels with no predicted samples. Use `zero_division` parameter to control this behavior.\n",
      "  _warn_prf(average, modifier, f\"{metric.capitalize()} is\", len(result))\n"
     ]
    }
   ],
   "source": [
    "nb_predictions = clf.predict(tfidf_dataset[\"test\"][\"x\"])\n",
    "print(classification_report(tfidf_dataset[\"test\"][\"y\"], nb_predictions))"
   ]
  },
  {
   "cell_type": "code",
   "execution_count": null,
   "id": "549d6162",
   "metadata": {},
   "outputs": [],
   "source": []
  },
  {
   "cell_type": "markdown",
   "id": "0f448358",
   "metadata": {},
   "source": [
    "## SVM"
   ]
  },
  {
   "cell_type": "code",
   "execution_count": 19,
   "id": "32edd0a0",
   "metadata": {},
   "outputs": [],
   "source": [
    "#from sklearn.model_selection import GridSearchCV\n",
    "from sklearn import svm"
   ]
  },
  {
   "cell_type": "code",
   "execution_count": null,
   "id": "8b1229bd",
   "metadata": {},
   "outputs": [],
   "source": [
    "# SVM Hyper-parameters.\n",
    "kernels = [\"linear\", \"poly\", \"rbf\", \"sigmoid\", \"precomputed\"]\n",
    "Cvalues = [1E-1, 1E0, 1E1, 1E2]"
   ]
  },
  {
   "cell_type": "code",
   "execution_count": null,
   "id": "af6079e4",
   "metadata": {},
   "outputs": [],
   "source": [
    "# grid search for Bag of words\n",
    "results = {\"kernel\": [], \"C\": [], \"F1\": []}\n",
    "for kernel in kernels:\n",
    "    for c in Cvalues:\n",
    "        print(f\"kernel: {kernel}, C: {c}\")\n",
    "        results[\"kernel\"].append(kernel)\n",
    "        results[\"C\"].append(c)\n",
    "        \n",
    "        model = svm.SVC(kernel=kernel, C=c).fit(bow_dataset[\"train\"][\"x\"], bow_dataset[\"train\"][\"y\"])\n",
    "        predict_dev = model.predict(bow_dataset[\"validation\"][\"x\"])\n",
    "        \n",
    "        results[\"F1\"].append(f1_score(bow_dataset[\"validation\"][\"y\"], predict_dev, average=\"macro\"))"
   ]
  },
  {
   "cell_type": "code",
   "execution_count": null,
   "id": "fb305d58",
   "metadata": {},
   "outputs": [],
   "source": [
    "# evaluate BoW SVM models\n",
    "dfr = pd.DataFrame.from_dict(results)\n",
    "dfr = dfr.sort_values(by=\"F1\", ascending=False).reset_index(drop=True)\n",
    "\n",
    "best_kernel = dfr.kernel.tolist()[0]\n",
    "best_c = dfr.C.tolist()[0]\n",
    "model = svm.SVC(kernel=best_kernel, C=best_c).fit(bow_dataset[\"train\"][\"x\"], bow_dataset[\"train\"][\"y\"])\n",
    "predict_test = model.predict(bow_dataset[\"test\"][\"x\"])\n",
    "        \n",
    "print(\"Best F1 score: \", f1_score(bow_dataset[\"test\"][\"y\"], predict_test, average=\"macro\"))"
   ]
  },
  {
   "cell_type": "code",
   "execution_count": null,
   "id": "81ca9556",
   "metadata": {},
   "outputs": [],
   "source": [
    "# grid search for TFIDF\n",
    "results_tfidf = {\"kernel\": [], \"C\": [], \"F1\": []}\n",
    "for kernel in kernels:\n",
    "    for c in Cvalues:\n",
    "        print(f\"kernel: {kernel}, C: {c}\")\n",
    "        results_tfidf[\"kernel\"].append(kernel)\n",
    "        results_tfidf[\"C\"].append(c)\n",
    "        \n",
    "        model = svm.SVC(kernel=kernel, C=c).fit(tfidf_dataset[\"train\"][\"x\"], tfidf_dataset[\"train\"][\"y\"])\n",
    "        predict_dev = model.predict(tfidf_dataset[\"validation\"][\"x\"])\n",
    "        \n",
    "        results_tfidf[\"F1\"].append(f1_score(tfidf_dataset[\"validation\"][\"y\"], predict_dev, average=\"macro\"))"
   ]
  },
  {
   "cell_type": "code",
   "execution_count": null,
   "id": "089d80bc",
   "metadata": {},
   "outputs": [],
   "source": [
    "# evaluate TF-IDF SVM models\n",
    "dfr = pd.DataFrame.from_dict(results_tfidf)\n",
    "dfr = dfr.sort_values(by=\"F1\", ascending=False).reset_index(drop=True)\n",
    "\n",
    "best_kernel = dfr.kernel.tolist()[0]\n",
    "best_c = dfr.C.tolist()[0]\n",
    "model = svm.SVC(kernel=best_kernel, C=best_c).fit(bow_dataset[\"train\"][\"x\"], bow_dataset[\"train\"][\"y\"])\n",
    "predict_test = model.predict(bow_dataset[\"test\"][\"x\"])\n",
    "        \n",
    "print(\"Best F1 score: \", f1_score(bow_dataset[\"test\"][\"y\"], predict_test, average=\"macro\"))"
   ]
  },
  {
   "cell_type": "code",
   "execution_count": null,
   "id": "7b67c94a",
   "metadata": {},
   "outputs": [],
   "source": []
  },
  {
   "cell_type": "markdown",
   "id": "9e8b8ca6",
   "metadata": {},
   "source": [
    "## Logistic Regression\n",
    "\n",
    "Pytorch: [Tutorial](https://pytorch.org/tutorials/beginner/introyt/trainingyt.html)"
   ]
  },
  {
   "cell_type": "code",
   "execution_count": 16,
   "id": "02b5f243",
   "metadata": {},
   "outputs": [
    {
     "name": "stderr",
     "output_type": "stream",
     "text": [
      "/home/diadochus/anaconda3/envs/hug/lib/python3.12/site-packages/tqdm/auto.py:21: TqdmWarning: IProgress not found. Please update jupyter and ipywidgets. See https://ipywidgets.readthedocs.io/en/stable/user_install.html\n",
      "  from .autonotebook import tqdm as notebook_tqdm\n"
     ]
    }
   ],
   "source": [
    "import torch\n",
    "import torch.nn.functional as F\n",
    "\n",
    "from torch import nn\n",
    "from torch.utils.data import DataLoader, TensorDataset\n",
    "from torch.autograd import Variable\n",
    "from torcheval.metrics import MulticlassF1Score"
   ]
  },
  {
   "cell_type": "code",
   "execution_count": 17,
   "id": "6d31a09e",
   "metadata": {},
   "outputs": [],
   "source": [
    "import json\n",
    "import os\n",
    "import pickle\n",
    "import uuid\n",
    "\n",
    "from tqdm import tqdm"
   ]
  },
  {
   "cell_type": "code",
   "execution_count": 18,
   "id": "9d285b90",
   "metadata": {},
   "outputs": [
    {
     "name": "stdout",
     "output_type": "stream",
     "text": [
      "cuda:0\n"
     ]
    }
   ],
   "source": [
    "MAX_EPOCHS = 100\n",
    "NUM_CLASSES = df.label.nunique()\n",
    "\n",
    "device = torch.device(\"cuda:0\" if torch.cuda.is_available() else \"cpu\")\n",
    "print(device)"
   ]
  },
  {
   "cell_type": "code",
   "execution_count": 19,
   "id": "0556b3f9",
   "metadata": {},
   "outputs": [],
   "source": [
    "def create_dir_if_not_exists(path):\n",
    "    \"\"\"Checks if a directory exists. If not, creates it.\n",
    "\n",
    "    Args:\n",
    "        path: The path to the directory (including subdirectories).\n",
    "    \"\"\"\n",
    "    if not os.path.exists(path):\n",
    "        os.makedirs(path, exist_ok=True)"
   ]
  },
  {
   "cell_type": "code",
   "execution_count": 20,
   "id": "aa934694",
   "metadata": {},
   "outputs": [],
   "source": [
    "class LogisticRegression(nn.Module):\n",
    "    \"\"\"\n",
    "    Multi-class Logistic Regression model in PyTorch.\n",
    "    \"\"\"\n",
    "    def __init__(self, in_features, out_features):\n",
    "        \"\"\"\n",
    "        Initialize the model with linear layer and softmax activation.\n",
    "\n",
    "        Args:\n",
    "          in_features: Number of input features.\n",
    "          out_features: Number of output features.\n",
    "        \"\"\"\n",
    "        super(LogisticRegression, self).__init__()\n",
    "        self.linear = nn.Linear(in_features, out_features)\n",
    "        # self.init_weights()\n",
    "        \n",
    "    #def init_weights(self) -> None:\n",
    "    #    initrange = 0.1\n",
    "    #    self.linear.bias.data.zero_()\n",
    "    #    self.linear.weight.data.uniform_(-initrange, initrange)\n",
    "\n",
    "    def forward(self, x):\n",
    "        \"\"\"\n",
    "        Perform the forward pass: linear transformation.\n",
    "\n",
    "        Args:\n",
    "          x: Input data (tensor).\n",
    "\n",
    "        Returns:\n",
    "          Logits (tensor): Output of the linear layer before activation.\n",
    "        \"\"\"\n",
    "        logits = self.linear(x)\n",
    "        return logits  # F.log_softmax(logits, dim=1)"
   ]
  },
  {
   "cell_type": "code",
   "execution_count": 21,
   "id": "04d72fe4",
   "metadata": {},
   "outputs": [],
   "source": [
    "def train_one_epoch(model, train_loader, loss_fn, optimizer, epoch_index, verbose=False):  # tb_writer\n",
    "    running_loss = 0.\n",
    "    last_loss = 0.\n",
    "\n",
    "    # Here, we use enumerate(training_loader) instead of\n",
    "    # iter(training_loader) so that we can track the batch\n",
    "    # index and do some intra-epoch reporting\n",
    "    for i, data in enumerate(train_loader):\n",
    "        # Every data instance is an input + label pair\n",
    "        inputs, labels = data\n",
    "        inputs = inputs.to(device)\n",
    "        labels = labels.to(device)\n",
    "\n",
    "        # Zero your gradients for every batch!\n",
    "        optimizer.zero_grad()\n",
    "\n",
    "        # Make predictions for this batch\n",
    "        outputs = model(inputs)\n",
    "\n",
    "        # Compute the loss and its gradients\n",
    "        loss = loss_fn(outputs, labels)\n",
    "        loss.backward()\n",
    "\n",
    "        # Adjust learning weights or update weights\n",
    "        optimizer.step()\n",
    "\n",
    "        # Gather data and report\n",
    "        running_loss += loss.item()\n",
    "        if i % 100 == 99:\n",
    "            last_loss = running_loss / 100  # loss per batch\n",
    "            if verbose:\n",
    "                print('\\tbatch {} loss: {}'.format(i + 1, last_loss))\n",
    "            #tb_x = epoch_index * len(training_loader) + i + 1\n",
    "            #tb_writer.add_scalar('Loss/train', last_loss, tb_x)\n",
    "            running_loss = 0.\n",
    "            \n",
    "    return last_loss"
   ]
  },
  {
   "cell_type": "code",
   "execution_count": 22,
   "id": "7679bc17",
   "metadata": {},
   "outputs": [],
   "source": [
    "def validation_step(model, validation_loader, loss_fn):\n",
    "    metric = MulticlassF1Score(num_classes=NUM_CLASSES, average=\"macro\")\n",
    "    running_vloss = 0.0\n",
    "    # Disable gradient computation and reduce memory consumption.\n",
    "    with torch.no_grad():\n",
    "        for i, vdata in enumerate(validation_loader):\n",
    "            vinputs, vlabels = vdata\n",
    "            vinputs = vinputs.to(device)\n",
    "            vlabels = vlabels.to(device)\n",
    "            voutputs = model(vinputs)\n",
    "            vloss = loss_fn(voutputs, vlabels)\n",
    "            running_vloss += vloss.item()\n",
    "            metric.update(voutputs, vlabels)\n",
    "            \n",
    "    avg_vloss = running_vloss / (i + 1)\n",
    "    vf1_macro = metric.compute()\n",
    "    return avg_vloss, vf1_macro.item()"
   ]
  },
  {
   "cell_type": "code",
   "execution_count": 23,
   "id": "6de2ac12",
   "metadata": {},
   "outputs": [],
   "source": [
    "def early_stopping_flag(arr, patience=3):\n",
    "    \"\"\"\n",
    "    Checks if the last 'patience' no of elements in a list are all greater than the \n",
    "    (patience+1)th element from the last.\n",
    "\n",
    "    Args:\n",
    "        my_list: A list of numbers.\n",
    "\n",
    "    Returns:\n",
    "        bool flag.\n",
    "    \"\"\"\n",
    "\n",
    "    if len(arr) <= patience:\n",
    "        return False  # List must have at least \"patience\" elements\n",
    "    \n",
    "    comparison_value = arr[-(patience+1)]\n",
    "    return all(val > comparison_value for val in arr[-patience:])"
   ]
  },
  {
   "cell_type": "code",
   "execution_count": 24,
   "id": "ef48f096",
   "metadata": {},
   "outputs": [],
   "source": [
    "# Initializing in a separate cell so we can easily add more epochs to the same run\n",
    "#timestamp = datetime.now().strftime('%Y%m%d_%H%M%S')\n",
    "#writer = SummaryWriter('runs/logistic_{}'.format(timestamp))"
   ]
  },
  {
   "cell_type": "code",
   "execution_count": 25,
   "id": "cb7bbc9d",
   "metadata": {},
   "outputs": [],
   "source": [
    "def fit(model, train_loader, validation_loader, model_save_file, lr=1e-2, patience=3, verbose=False):\n",
    "    # Loss fn; it takes logits and labels.\n",
    "    loss_fn = torch.nn.CrossEntropyLoss()\n",
    "    # Optimizers specified in the torch.optim package\n",
    "    optimizer = torch.optim.Adam(model.parameters(), lr=lr)\n",
    "    scheduler = torch.optim.lr_scheduler.StepLR(optimizer, lr, gamma=0.95)\n",
    "    \n",
    "    best_vloss = 1_000_000.\n",
    "    epoch_number = 0\n",
    "    output_json = {\n",
    "        \"patience\": patience,\n",
    "        \"lr\": lr,\n",
    "        \"model_save_path\": f\"./models/{model_save_file}.pth\",\n",
    "        \"training_loss\": [],\n",
    "        \"validation_loss\": [],\n",
    "        \"validation_f1\": [],\n",
    "    }\n",
    "    for epoch in (pbar := tqdm(range(MAX_EPOCHS))):\n",
    "        if verbose:\n",
    "            print('EPOCH {}:'.format(epoch_number + 1))\n",
    "        # Make sure gradient tracking is on, and do a pass over the data\n",
    "        model.train(True)\n",
    "        avg_loss = train_one_epoch(\n",
    "            model, \n",
    "            train_loader, \n",
    "            loss_fn, \n",
    "            optimizer, \n",
    "            epoch_number,\n",
    "            verbose=verbose\n",
    "        )  # writer\n",
    "\n",
    "        # Set the model to evaluation mode, disabling dropout and using population\n",
    "        # statistics for batch normalization.\n",
    "        model.eval()\n",
    "        avg_vloss, vf1_macro = validation_step(model, validation_loader, loss_fn)\n",
    "        if verbose:\n",
    "            print('LOSS train {} valid {} valid F1 {}'.format(avg_loss, avg_vloss, vf1_macro))\n",
    "\n",
    "        # Learning rate scheduling should be applied after optimizer’s update\n",
    "        # use the following template to refer to schedulers algorithms\n",
    "        #    train(...), validation(...), scheduler.step()\n",
    "        scheduler.step()\n",
    "        \n",
    "        # add metrics to output json\n",
    "        output_json[\"training_loss\"].append(avg_loss)\n",
    "        output_json[\"validation_loss\"].append(avg_vloss)\n",
    "        output_json[\"validation_f1\"].append(vf1_macro)\n",
    "        \n",
    "        # early stopping\n",
    "        es_flag = early_stopping_flag(output_json[\"validation_loss\"], patience=patience)\n",
    "        if es_flag:\n",
    "            return output_json\n",
    "        \n",
    "        # Log the running loss averaged per batch\n",
    "        # for both training and validation\n",
    "        #writer.add_scalars('Training vs. Validation Loss',\n",
    "        #                { 'Training' : avg_loss, 'Validation' : avg_vloss },\n",
    "        #                epoch_number + 1)\n",
    "        #writer.flush()\n",
    "\n",
    "        # Track best performance, and save the model's state\n",
    "        if avg_vloss < best_vloss:\n",
    "            best_vloss = avg_vloss\n",
    "            model_path = output_json[\"model_save_path\"]\n",
    "            torch.save(model.state_dict(), model_path)\n",
    "        \n",
    "        #pbar.set_description(f\"Epoch {epoch_number+1}\")\n",
    "        pbar.set_postfix(tl=round(avg_loss, 2), vl=round(avg_vloss, 2))\n",
    "        #pbar.write(f\"LOSS train {avg_loss} valid {avg_vloss}\")\n",
    "\n",
    "        epoch_number += 1\n",
    "    \n",
    "    return output_json"
   ]
  },
  {
   "cell_type": "code",
   "execution_count": 26,
   "id": "dda88d90",
   "metadata": {},
   "outputs": [],
   "source": [
    "def get_data(data_type, train_batch_size=32):\n",
    "    with open(f\"./data/{data_type}.pickle\", \"rb\") as handle:\n",
    "        pickled_dataset = pickle.load(handle)\n",
    "\n",
    "    train_samples = TensorDataset(  # tfidf_dataset, bow_dataset\n",
    "        torch.tensor(pickled_dataset[\"train\"][\"x\"]).type(torch.FloatTensor),  # LongTensor\n",
    "        torch.tensor(pickled_dataset[\"train\"][\"y\"])\n",
    "        # F.one_hot(torch.tensor(bow_dataset[\"train\"][\"y\"])).type(torch.FloatTensor)\n",
    "    )\n",
    "\n",
    "    valid_samples = TensorDataset(\n",
    "        torch.tensor(pickled_dataset[\"validation\"][\"x\"]).type(torch.FloatTensor),\n",
    "        torch.tensor(pickled_dataset[\"validation\"][\"y\"])\n",
    "        # F.one_hot(torch.tensor(bow_dataset[\"validation\"][\"y\"])).type(torch.FloatTensor)\n",
    "    )\n",
    "\n",
    "    test_samples = TensorDataset(\n",
    "        torch.tensor(pickled_dataset[\"test\"][\"x\"]).type(torch.FloatTensor),\n",
    "        torch.tensor(pickled_dataset[\"test\"][\"y\"])\n",
    "        # F.one_hot(torch.tensor(bow_dataset[\"test\"][\"y\"]))\n",
    "    )\n",
    "\n",
    "    # We wrap train_samples into a pytorch DataLoader\n",
    "    train_dataloader = DataLoader(train_samples, shuffle=True, batch_size=train_batch_size, pin_memory=True)\n",
    "    validation_dataloader = DataLoader(valid_samples, batch_size=train_batch_size, pin_memory=True)\n",
    "    test_dataloader = DataLoader(test_samples, pin_memory=True)\n",
    "    \n",
    "    nfeatures = np.shape(pickled_dataset[\"train\"][\"x\"])[-1]\n",
    "    \n",
    "    return train_dataloader, validation_dataloader, test_dataloader, nfeatures"
   ]
  },
  {
   "cell_type": "code",
   "execution_count": 27,
   "id": "c09a9034",
   "metadata": {},
   "outputs": [],
   "source": [
    "# for a given set of hyper-parameters, trains the logistic regression model.\n",
    "# saves the best model checkpoint (one with low validation loss) and training log file\n",
    "def run_logistic_one_config(model_name, data_type, lr):\n",
    "    # Train the model\n",
    "    # Model and data parameters\n",
    "    param_json = {\n",
    "        \"run_id\": str(uuid.uuid4()).replace(\"-\", \"_\"),\n",
    "        \"model_name\": model_name,\n",
    "        \"data_type\": data_type,\n",
    "    }\n",
    "    model_save_file = f\"{param_json[\"model_name\"]}_{param_json[\"run_id\"]}\"\n",
    "\n",
    "    # get dataset in torch dataloader format\n",
    "    train_dataloader, validation_dataloader, test_dataloader, nfeatures = get_data(\n",
    "        param_json[\"data_type\"], \n",
    "        train_batch_size=32\n",
    "    )\n",
    "\n",
    "    # initialize model\n",
    "    model = LogisticRegression(\n",
    "        in_features=nfeatures, \n",
    "        out_features=NUM_CLASSES\n",
    "    )\n",
    "    model.to(device)\n",
    "    # print(model)\n",
    "\n",
    "    # run the training loop\n",
    "    run_json = fit(\n",
    "        model, \n",
    "        train_dataloader, \n",
    "        validation_dataloader, \n",
    "        model_save_file,\n",
    "        lr=lr,\n",
    "        patience=3, \n",
    "        verbose=False\n",
    "    )\n",
    "\n",
    "    for k, v in run_json.items():\n",
    "        param_json[k] = v\n",
    "\n",
    "    # save run logs\n",
    "    log_directory = f\"./logs/{param_json[\"model_name\"]}_{param_json[\"data_type\"]}\"\n",
    "    create_dir_if_not_exists(log_directory)\n",
    "    logfilename = f\"{log_directory}/{param_json[\"run_id\"]}.json\"\n",
    "    with open(logfilename, \"w\") as f:\n",
    "        json.dump(param_json, f, indent=4)\n",
    "        \n",
    "    return 0"
   ]
  },
  {
   "cell_type": "code",
   "execution_count": 47,
   "id": "3c8cefb6",
   "metadata": {},
   "outputs": [],
   "source": [
    "# Grid Search for best hyper-parameters.\n",
    "model_name = \"logistic\" \n",
    "dtypes = [\"bow\", \"tfidf\", \"sent_emb\"]\n",
    "lrs = [1e-1, 1e-2, 1e-3]\n",
    "\n",
    "for data_type in dtypes:\n",
    "    for lr in lrs:\n",
    "        # print(model_name, data_type, nlayers, dropout, lr)\n",
    "        run_logistic_one_config(model_name, data_type, lr)\n",
    "        torch.cuda.empty_cache()"
   ]
  },
  {
   "cell_type": "markdown",
   "id": "b67f2fb8",
   "metadata": {},
   "source": [
    "### Evaluate"
   ]
  },
  {
   "cell_type": "code",
   "execution_count": 28,
   "id": "22c2cf0c",
   "metadata": {},
   "outputs": [],
   "source": [
    "from os import listdir\n",
    "from os.path import isfile, join\n",
    "from sklearn.metrics import classification_report"
   ]
  },
  {
   "cell_type": "code",
   "execution_count": 29,
   "id": "2057ed14",
   "metadata": {},
   "outputs": [],
   "source": [
    "def get_best_model_path(mypath, return_df=False):\n",
    "    # read all logfiles\n",
    "    onlyfiles = [f\"{mypath}{f}\" for f in listdir(mypath) if isfile(join(mypath, f))]\n",
    "    logs = []\n",
    "    for fn in onlyfiles:\n",
    "        with open(fn, \"r\") as f:\n",
    "            logs.append(json.load(f))\n",
    "    dflogs = pd.DataFrame(logs)\n",
    "\n",
    "    # extract macro F1 score for each run\n",
    "    bestf1s = []\n",
    "    for _, row in dflogs.iterrows():\n",
    "        p = row[\"patience\"]\n",
    "        bestf1 = row[\"validation_f1\"][-1*(p+1)]\n",
    "        bestf1s.append(bestf1)\n",
    "\n",
    "    dflogs = dflogs.assign(best_f1=bestf1s)\n",
    "    \n",
    "    # get model path with best macro F1 score.\n",
    "    mpath = dflogs.sort_values(by=\"best_f1\", ascending=False).reset_index(drop=True).model_save_path.iloc[0]\n",
    "    if return_df:\n",
    "        return mpath, dflogs\n",
    "    else:\n",
    "        return mpath"
   ]
  },
  {
   "cell_type": "code",
   "execution_count": 30,
   "id": "28b343e6",
   "metadata": {},
   "outputs": [],
   "source": [
    "def get_predictions_truth_labels(model, test_dataloader):\n",
    "    # gather predictions and truth labels.\n",
    "    pred_labels = []\n",
    "    truth_labels = []\n",
    "    model.eval()\n",
    "    with torch.no_grad():\n",
    "        for i, tdata in enumerate(test_dataloader):\n",
    "            tinputs, tlabels = tdata\n",
    "            voutputs = model(tinputs)\n",
    "            tmptruth = tlabels.detach().numpy()[0]\n",
    "            truth_labels.append(tmptruth)\n",
    "            tmpreds = np.argmax(voutputs.detach().numpy())\n",
    "            pred_labels.append(tmpreds)\n",
    "    return truth_labels, pred_labels"
   ]
  },
  {
   "cell_type": "code",
   "execution_count": 69,
   "id": "8efba35e",
   "metadata": {},
   "outputs": [],
   "source": [
    "model_type = \"logistic\"\n",
    "data_type = \"sent_emb\"\n",
    "\n",
    "mypath = f\"./logs/{model_type}_{data_type}/\""
   ]
  },
  {
   "cell_type": "code",
   "execution_count": 84,
   "id": "e71cc9fe",
   "metadata": {},
   "outputs": [],
   "source": [
    "# get model path with best macro F1 score.\n",
    "mpath = get_best_model_path(mypath)"
   ]
  },
  {
   "cell_type": "code",
   "execution_count": 85,
   "id": "43b870a1",
   "metadata": {},
   "outputs": [],
   "source": [
    "# get dataset in torch dataloader format\n",
    "_, _, test_dataloader, nfeatures = get_data(\n",
    "    data_type, \n",
    "    train_batch_size=32\n",
    ")"
   ]
  },
  {
   "cell_type": "code",
   "execution_count": 86,
   "id": "aff8025e",
   "metadata": {},
   "outputs": [
    {
     "data": {
      "text/plain": [
       "<All keys matched successfully>"
      ]
     },
     "execution_count": 86,
     "metadata": {},
     "output_type": "execute_result"
    }
   ],
   "source": [
    "# initialize model\n",
    "model = LogisticRegression(\n",
    "    in_features=nfeatures, \n",
    "    out_features=NUM_CLASSES\n",
    ")\n",
    "# load the saved weights\n",
    "model.load_state_dict(torch.load(mpath))"
   ]
  },
  {
   "cell_type": "code",
   "execution_count": 88,
   "id": "97de99ee",
   "metadata": {},
   "outputs": [],
   "source": [
    "truth_labels, pred_labels = get_predictions_truth_labels(model, test_dataloader)"
   ]
  },
  {
   "cell_type": "code",
   "execution_count": 80,
   "id": "72c7e43d",
   "metadata": {},
   "outputs": [
    {
     "name": "stdout",
     "output_type": "stream",
     "text": [
      "              precision    recall  f1-score   support\n",
      "\n",
      "           0       0.72      0.76      0.74       581\n",
      "           1       0.72      0.79      0.75       695\n",
      "           2       0.49      0.41      0.44       159\n",
      "           3       0.67      0.56      0.61       275\n",
      "           4       0.64      0.61      0.63       224\n",
      "           5       0.52      0.38      0.44        66\n",
      "\n",
      "    accuracy                           0.69      2000\n",
      "   macro avg       0.63      0.58      0.60      2000\n",
      "weighted avg       0.68      0.69      0.68      2000\n",
      "\n"
     ]
    }
   ],
   "source": [
    "# Classification report for Multi-class Logistic regression.\n",
    "print(classification_report(truth_labels, pred_labels))"
   ]
  },
  {
   "cell_type": "code",
   "execution_count": null,
   "id": "da73c1a5",
   "metadata": {},
   "outputs": [],
   "source": []
  },
  {
   "cell_type": "markdown",
   "id": "6a61a1a8",
   "metadata": {},
   "source": [
    "## Neural Networks"
   ]
  },
  {
   "cell_type": "code",
   "execution_count": 31,
   "id": "6e0856ae",
   "metadata": {},
   "outputs": [],
   "source": [
    "# generates a list of list [[inp, out], [...]]; each element contains no of input features\n",
    "# and output features for each linear layer.\n",
    "def generate_no_neurons(num1, num2, n):\n",
    "    if num1 <= num2:\n",
    "        raise ValueError(\"num1 must be greater than num2\")\n",
    "        \n",
    "    if n == 1:\n",
    "        return [[num1, num2]]\n",
    "    \n",
    "    num1b = int(round(1.3*num1, 0))\n",
    "    # Calculate the base of the exponential function\n",
    "    base = (num2 / num1b) ** (1 / (n))\n",
    "\n",
    "    # Generate the sequence\n",
    "    sequence = [num1b * base**i for i in range(n-1)]\n",
    "    sequence = [int(round(x, 0)) for x in sequence]\n",
    "    sequence = [num1] + sequence + [num2]\n",
    "    output = []\n",
    "    for i in range(len(sequence)-1):\n",
    "        output.append([sequence[i], sequence[i+1]])\n",
    "    \n",
    "    return output"
   ]
  },
  {
   "cell_type": "code",
   "execution_count": 32,
   "id": "579d8eb9",
   "metadata": {},
   "outputs": [],
   "source": [
    "class VanillaNeuralNetworks(nn.Module):\n",
    "    \"\"\"\n",
    "    Multi-class Neural Network in PyTorch.\n",
    "    \"\"\"\n",
    "    def __init__(self, in_features, out_features, nlayers, dropout):\n",
    "        \"\"\"\n",
    "        Initialize the model with linear layers.\n",
    "\n",
    "        Args:\n",
    "          in_features: Number of input features.\n",
    "          out_features: Number of output features.\n",
    "          nlayers: no of layers in the neural network.\n",
    "          dropout: dropout probability.\n",
    "        \"\"\"\n",
    "        super(VanillaNeuralNetworks, self).__init__()\n",
    "        \n",
    "        layer_info = generate_no_neurons(in_features, out_features, nlayers)\n",
    "        \n",
    "        layers = []\n",
    "        for lay in layer_info[:-1]:\n",
    "            in_, out_ = lay\n",
    "            layers.append(nn.Linear(in_, out_))\n",
    "            layers.append(nn.ReLU())\n",
    "            layers.append(nn.BatchNorm1d(out_))\n",
    "            layers.append(nn.Dropout(p=dropout))\n",
    "        \n",
    "        self.linear_relu_stack = nn.Sequential(*layers)\n",
    "        self.output_layer = nn.Linear(layer_info[-1][0], out_features)\n",
    "        \n",
    "    def forward(self, x):\n",
    "        \"\"\"\n",
    "        Perform the forward pass.\n",
    "\n",
    "        Args:\n",
    "          x: Input data (tensor).\n",
    "\n",
    "        Returns:\n",
    "          Logits (tensor): Output of the linear layer before activation.\n",
    "        \"\"\"\n",
    "        logits = self.linear_relu_stack(x)\n",
    "        logits = self.output_layer(logits)\n",
    "        return logits "
   ]
  },
  {
   "cell_type": "code",
   "execution_count": 33,
   "id": "6f08c6ac",
   "metadata": {},
   "outputs": [],
   "source": [
    "# for a given set of hyper-parameters, trains the neural network model.\n",
    "# saves the best model checkpoint (one with low validation loss) and training log file\n",
    "def run_nn_one_config(model_name, data_type, nlayers, dropout, lr):\n",
    "    # Train the model\n",
    "    # Model and data parameters\n",
    "    param_json = {\n",
    "        \"run_id\": str(uuid.uuid4()).replace(\"-\", \"_\"),\n",
    "        \"model_name\": model_name,\n",
    "        \"data_type\": data_type,\n",
    "        \"nlayers\": nlayers,\n",
    "        \"dropout\": dropout,\n",
    "    }\n",
    "    model_save_file = f\"{param_json[\"model_name\"]}_{param_json[\"run_id\"]}\"\n",
    "\n",
    "    # get dataset in torch dataloader format\n",
    "    train_dataloader, validation_dataloader, test_dataloader, nfeatures = get_data(\n",
    "        param_json[\"data_type\"], \n",
    "        train_batch_size=32\n",
    "    )\n",
    "\n",
    "    # initialize model\n",
    "    model = VanillaNeuralNetworks(\n",
    "        in_features=nfeatures, \n",
    "        out_features=NUM_CLASSES,\n",
    "        nlayers=param_json[\"nlayers\"], \n",
    "        dropout=param_json[\"dropout\"]\n",
    "    )\n",
    "    model.to(device)\n",
    "    # print(model)\n",
    "\n",
    "    # run the training loop\n",
    "    run_json = fit(\n",
    "        model, \n",
    "        train_dataloader, \n",
    "        validation_dataloader, \n",
    "        model_save_file,\n",
    "        lr=lr,\n",
    "        patience=3, \n",
    "        verbose=False\n",
    "    )\n",
    "\n",
    "    for k, v in run_json.items():\n",
    "        param_json[k] = v\n",
    "\n",
    "    # save run logs\n",
    "    log_directory = f\"./logs/{param_json[\"model_name\"]}_{param_json[\"data_type\"]}\"\n",
    "    create_dir_if_not_exists(log_directory)\n",
    "    logfilename = f\"{log_directory}/{param_json[\"run_id\"]}.json\"\n",
    "    with open(logfilename, \"w\") as f:\n",
    "        json.dump(param_json, f, indent=4)\n",
    "    \n",
    "    return 0"
   ]
  },
  {
   "cell_type": "code",
   "execution_count": 77,
   "id": "e29a3d69",
   "metadata": {},
   "outputs": [],
   "source": [
    "# Grid Search for best hyper-parameters.\n",
    "model_name = \"nn\" \n",
    "dtypes = [\"bow\", \"tfidf\", \"sent_emb\"]\n",
    "nl = [2, 3, 4, 5]\n",
    "dprobs = [0.1*x for x in range(1, 6)]\n",
    "lrs = [1e-1, 1e-2, 1e-3]\n",
    "\n",
    "for data_type in dtypes:\n",
    "    for nlayers in nl:\n",
    "        for dropout in dprobs:\n",
    "            for lr in lrs:\n",
    "                # print(model_name, data_type, nlayers, dropout, lr)\n",
    "                run_nn_one_config(model_name, data_type, nlayers, dropout, lr)\n",
    "                torch.cuda.empty_cache()"
   ]
  },
  {
   "cell_type": "markdown",
   "id": "6835b553",
   "metadata": {},
   "source": [
    "### Evaluate"
   ]
  },
  {
   "cell_type": "code",
   "execution_count": 105,
   "id": "ca152e58",
   "metadata": {},
   "outputs": [],
   "source": [
    "model_type = \"nn\"\n",
    "data_type = \"sent_emb\"\n",
    "\n",
    "mypath = f\"./logs/{model_type}_{data_type}/\""
   ]
  },
  {
   "cell_type": "code",
   "execution_count": 106,
   "id": "2344c963",
   "metadata": {},
   "outputs": [],
   "source": [
    "# get model path with best macro F1 score.\n",
    "mpath, dfnnlogs = get_best_model_path(mypath, return_df=True)\n",
    "model_layers = dfnnlogs.loc[dfnnlogs.model_save_path==mpath].nlayers.tolist()[0]\n",
    "model_dropout = dfnnlogs.loc[dfnnlogs.model_save_path==mpath].dropout.tolist()[0]"
   ]
  },
  {
   "cell_type": "code",
   "execution_count": 107,
   "id": "9b62443a",
   "metadata": {},
   "outputs": [],
   "source": [
    "# get dataset in torch dataloader format\n",
    "_, _, test_dataloader, nfeatures = get_data(\n",
    "    data_type, \n",
    "    train_batch_size=32\n",
    ")"
   ]
  },
  {
   "cell_type": "code",
   "execution_count": 108,
   "id": "12000c40",
   "metadata": {},
   "outputs": [
    {
     "data": {
      "text/plain": [
       "<All keys matched successfully>"
      ]
     },
     "execution_count": 108,
     "metadata": {},
     "output_type": "execute_result"
    }
   ],
   "source": [
    "# initialize model\n",
    "model = VanillaNeuralNetworks(\n",
    "    in_features=nfeatures, \n",
    "    out_features=NUM_CLASSES,\n",
    "    nlayers=model_layers,\n",
    "    dropout=model_dropout\n",
    ")\n",
    "# load the saved weights\n",
    "model.load_state_dict(torch.load(mpath))"
   ]
  },
  {
   "cell_type": "code",
   "execution_count": 109,
   "id": "468350d7",
   "metadata": {},
   "outputs": [],
   "source": [
    "truth_labels, pred_labels = get_predictions_truth_labels(model, test_dataloader)"
   ]
  },
  {
   "cell_type": "code",
   "execution_count": 110,
   "id": "82e62d8e",
   "metadata": {},
   "outputs": [
    {
     "name": "stdout",
     "output_type": "stream",
     "text": [
      "              precision    recall  f1-score   support\n",
      "\n",
      "           0       0.77      0.78      0.77       581\n",
      "           1       0.75      0.82      0.78       695\n",
      "           2       0.63      0.48      0.54       159\n",
      "           3       0.70      0.68      0.69       275\n",
      "           4       0.69      0.67      0.68       224\n",
      "           5       0.58      0.38      0.46        66\n",
      "\n",
      "    accuracy                           0.73      2000\n",
      "   macro avg       0.69      0.63      0.66      2000\n",
      "weighted avg       0.73      0.73      0.73      2000\n",
      "\n"
     ]
    }
   ],
   "source": [
    "# classification report for Multi-layer Neural Networks\n",
    "print(classification_report(truth_labels, pred_labels))"
   ]
  },
  {
   "cell_type": "code",
   "execution_count": null,
   "id": "2a65f7ec",
   "metadata": {},
   "outputs": [],
   "source": []
  },
  {
   "cell_type": "markdown",
   "id": "321daab6",
   "metadata": {},
   "source": [
    "## Fine-Tuning Approaches\n",
    "## roBERTa Fine-tuning\n",
    "\n",
    "Huggingface fine-tuning [tutorial](https://huggingface.co/docs/transformers/training#train)."
   ]
  },
  {
   "cell_type": "code",
   "execution_count": 34,
   "id": "ffadb498",
   "metadata": {},
   "outputs": [],
   "source": [
    "import evaluate\n",
    "import torch\n",
    "\n",
    "from datasets import Dataset, DatasetDict\n",
    "from sklearn.metrics import classification_report\n",
    "from transformers import RobertaModel, RobertaTokenizer, AutoModelForSequenceClassification\n",
    "from transformers import TrainingArguments, Trainer, DataCollatorWithPadding\n",
    "from tqdm import tqdm"
   ]
  },
  {
   "cell_type": "code",
   "execution_count": 35,
   "id": "9e35120d",
   "metadata": {},
   "outputs": [],
   "source": [
    "# creates pytorch dataset object for emotional data\n",
    "def return_datasets(df):\n",
    "    dset = Dataset.from_dict(\n",
    "        {\n",
    "            \"label\": df.label.tolist(),\n",
    "            \"text\": df.text.tolist(),\n",
    "        }\n",
    "    )\n",
    "    return dset\n",
    "\n",
    "\n",
    "# computes the validation macro F1 score. \n",
    "metric = evaluate.load(\"f1\")\n",
    "\n",
    "\n",
    "def compute_metrics(eval_pred):\n",
    "    logits, labels = eval_pred\n",
    "    predictions = np.argmax(logits, axis=-1)\n",
    "    return metric.compute(predictions=predictions, references=labels, average=\"macro\")"
   ]
  },
  {
   "cell_type": "code",
   "execution_count": 7,
   "id": "385cee9e",
   "metadata": {},
   "outputs": [],
   "source": [
    "raw_datasets = DatasetDict(\n",
    "    {\n",
    "        \"train\": return_datasets(df),\n",
    "        \"validation\": return_datasets(df_val),\n",
    "        \"test\": return_datasets(df_test)\n",
    "    }\n",
    ")"
   ]
  },
  {
   "cell_type": "code",
   "execution_count": 9,
   "id": "8608fc21",
   "metadata": {},
   "outputs": [
    {
     "name": "stderr",
     "output_type": "stream",
     "text": [
      "Map: 100%|██████████████████████| 16000/16000 [00:01<00:00, 14564.10 examples/s]\n",
      "Map: 100%|████████████████████████| 2000/2000 [00:00<00:00, 12279.40 examples/s]\n",
      "Map: 100%|████████████████████████| 2000/2000 [00:00<00:00, 12357.83 examples/s]\n"
     ]
    }
   ],
   "source": [
    "base_model = 'roberta-base'\n",
    "num_labels = 6\n",
    "tokenizer = RobertaTokenizer.from_pretrained(base_model)\n",
    "\n",
    "\n",
    "def tokenize_function(examples):\n",
    "    return tokenizer(examples[\"text\"], padding=True, truncation=True)\n",
    "\n",
    "\n",
    "tokenized_dataset = raw_datasets.map(tokenize_function, batched=True,  remove_columns=[\"text\"])\n",
    "train_dataset=tokenized_dataset['train']\n",
    "eval_dataset=tokenized_dataset['validation'].shard(num_shards=2, index=0)\n",
    "test_dataset=tokenized_dataset['test'].shard(num_shards=2, index=1)"
   ]
  },
  {
   "cell_type": "code",
   "execution_count": 11,
   "id": "845112ef",
   "metadata": {},
   "outputs": [],
   "source": [
    "data_collator = DataCollatorWithPadding(tokenizer=tokenizer, return_tensors=\"pt\")"
   ]
  },
  {
   "cell_type": "markdown",
   "id": "4f992550",
   "metadata": {},
   "source": [
    "### Fine-Tune"
   ]
  },
  {
   "cell_type": "code",
   "execution_count": 23,
   "id": "cb8c55ce",
   "metadata": {},
   "outputs": [],
   "source": [
    "# use the same Training args for all models\n",
    "training_args = TrainingArguments(\n",
    "    output_dir=\"./fine_tuning/roBERTa/\",\n",
    "    evaluation_strategy=\"steps\",\n",
    "    learning_rate=5e-5,\n",
    "    num_train_epochs=4,\n",
    "    per_device_train_batch_size=16,\n",
    ")"
   ]
  },
  {
   "cell_type": "code",
   "execution_count": 14,
   "id": "e43f2569",
   "metadata": {},
   "outputs": [
    {
     "name": "stderr",
     "output_type": "stream",
     "text": [
      "Some weights of RobertaForSequenceClassification were not initialized from the model checkpoint at roberta-base and are newly initialized: ['classifier.dense.bias', 'classifier.dense.weight', 'classifier.out_proj.bias', 'classifier.out_proj.weight']\n",
      "You should probably TRAIN this model on a down-stream task to be able to use it for predictions and inference.\n"
     ]
    }
   ],
   "source": [
    "# Initialize the model\n",
    "dflabels = df[[\"label\", \"label_text\"]].drop_duplicates()\n",
    "id2label = {i: k for i, k in zip(dflabels.label.tolist(), dflabels.label_text.tolist())}\n",
    "\n",
    "model = AutoModelForSequenceClassification.from_pretrained(base_model, id2label=id2label)"
   ]
  },
  {
   "cell_type": "code",
   "execution_count": 30,
   "id": "9c9d1be8",
   "metadata": {},
   "outputs": [
    {
     "name": "stderr",
     "output_type": "stream",
     "text": [
      "/home/diadochus/anaconda3/envs/hug/lib/python3.12/site-packages/accelerate/accelerator.py:432: FutureWarning: Passing the following arguments to `Accelerator` is deprecated and will be removed in version 1.0 of Accelerate: dict_keys(['dispatch_batches', 'split_batches', 'even_batches', 'use_seedable_sampler']). Please pass an `accelerate.DataLoaderConfiguration` instead: \n",
      "dataloader_config = DataLoaderConfiguration(dispatch_batches=None, split_batches=False, even_batches=True, use_seedable_sampler=True)\n",
      "  warnings.warn(\n"
     ]
    }
   ],
   "source": [
    "trainer = Trainer(\n",
    "    model=model,\n",
    "    args=training_args,\n",
    "    train_dataset=train_dataset,\n",
    "    eval_dataset=eval_dataset,\n",
    "    data_collator=data_collator,\n",
    "    compute_metrics=compute_metrics,\n",
    ")"
   ]
  },
  {
   "cell_type": "code",
   "execution_count": 31,
   "id": "da5c61b4",
   "metadata": {},
   "outputs": [
    {
     "data": {
      "text/html": [
       "\n",
       "    <div>\n",
       "      \n",
       "      <progress value='4000' max='4000' style='width:300px; height:20px; vertical-align: middle;'></progress>\n",
       "      [4000/4000 05:22, Epoch 4/4]\n",
       "    </div>\n",
       "    <table border=\"1\" class=\"dataframe\">\n",
       "  <thead>\n",
       " <tr style=\"text-align: left;\">\n",
       "      <th>Step</th>\n",
       "      <th>Training Loss</th>\n",
       "      <th>Validation Loss</th>\n",
       "      <th>F1</th>\n",
       "    </tr>\n",
       "  </thead>\n",
       "  <tbody>\n",
       "    <tr>\n",
       "      <td>500</td>\n",
       "      <td>0.137700</td>\n",
       "      <td>0.452463</td>\n",
       "      <td>0.893417</td>\n",
       "    </tr>\n",
       "    <tr>\n",
       "      <td>1000</td>\n",
       "      <td>0.292700</td>\n",
       "      <td>0.236427</td>\n",
       "      <td>0.887063</td>\n",
       "    </tr>\n",
       "    <tr>\n",
       "      <td>1500</td>\n",
       "      <td>0.170700</td>\n",
       "      <td>0.230061</td>\n",
       "      <td>0.905140</td>\n",
       "    </tr>\n",
       "    <tr>\n",
       "      <td>2000</td>\n",
       "      <td>0.156400</td>\n",
       "      <td>0.246694</td>\n",
       "      <td>0.894907</td>\n",
       "    </tr>\n",
       "    <tr>\n",
       "      <td>2500</td>\n",
       "      <td>0.128600</td>\n",
       "      <td>0.244754</td>\n",
       "      <td>0.897317</td>\n",
       "    </tr>\n",
       "    <tr>\n",
       "      <td>3000</td>\n",
       "      <td>0.120400</td>\n",
       "      <td>0.226067</td>\n",
       "      <td>0.903031</td>\n",
       "    </tr>\n",
       "    <tr>\n",
       "      <td>3500</td>\n",
       "      <td>0.087300</td>\n",
       "      <td>0.242911</td>\n",
       "      <td>0.903737</td>\n",
       "    </tr>\n",
       "    <tr>\n",
       "      <td>4000</td>\n",
       "      <td>0.089100</td>\n",
       "      <td>0.236047</td>\n",
       "      <td>0.897557</td>\n",
       "    </tr>\n",
       "  </tbody>\n",
       "</table><p>"
      ],
      "text/plain": [
       "<IPython.core.display.HTML object>"
      ]
     },
     "metadata": {},
     "output_type": "display_data"
    },
    {
     "name": "stderr",
     "output_type": "stream",
     "text": [
      "Checkpoint destination directory ./fine_tuning/roBERTa/checkpoint-500 already exists and is non-empty. Saving will proceed but saved results may be invalid.\n",
      "Checkpoint destination directory ./fine_tuning/roBERTa/checkpoint-1000 already exists and is non-empty. Saving will proceed but saved results may be invalid.\n"
     ]
    },
    {
     "data": {
      "text/plain": [
       "TrainOutput(global_step=4000, training_loss=0.14786989688873292, metrics={'train_runtime': 322.914, 'train_samples_per_second': 198.195, 'train_steps_per_second': 12.387, 'total_flos': 2725994210185728.0, 'train_loss': 0.14786989688873292, 'epoch': 4.0})"
      ]
     },
     "execution_count": 31,
     "metadata": {},
     "output_type": "execute_result"
    }
   ],
   "source": [
    "trainer.train()"
   ]
  },
  {
   "cell_type": "markdown",
   "id": "e524d1f6",
   "metadata": {},
   "source": [
    "### Evaluate"
   ]
  },
  {
   "cell_type": "code",
   "execution_count": 52,
   "id": "12df8ba9",
   "metadata": {},
   "outputs": [],
   "source": [
    "model = AutoModelForSequenceClassification.from_pretrained(\n",
    "    \"./fine_tuning/roBERTa/checkpoint-1500/\", \n",
    "    id2label=id2label\n",
    ")"
   ]
  },
  {
   "cell_type": "code",
   "execution_count": 55,
   "id": "afe0ef79",
   "metadata": {},
   "outputs": [
    {
     "name": "stderr",
     "output_type": "stream",
     "text": [
      "100%|███████████████████████████████████████| 2000/2000 [00:30<00:00, 66.36it/s]\n"
     ]
    }
   ],
   "source": [
    "model.eval()\n",
    "predictions = []\n",
    "with torch.no_grad():\n",
    "    for _, row in tqdm(df_test.iterrows(), total=len(df_test)):\n",
    "        text = row[\"text\"]\n",
    "        encoded_input = tokenizer(text, return_tensors='pt')\n",
    "        output = model(**encoded_input)\n",
    "        ptmp = np.argmax(output.logits.detach().numpy(), axis=-1)[0]\n",
    "        predictions.append(ptmp)"
   ]
  },
  {
   "cell_type": "code",
   "execution_count": 57,
   "id": "639649e6",
   "metadata": {},
   "outputs": [],
   "source": [
    "df_test = df_test.assign(predictions=predictions)"
   ]
  },
  {
   "cell_type": "code",
   "execution_count": 61,
   "id": "3b8b4704",
   "metadata": {},
   "outputs": [
    {
     "name": "stdout",
     "output_type": "stream",
     "text": [
      "              precision    recall  f1-score   support\n",
      "\n",
      "           0       0.95      0.96      0.96       581\n",
      "           1       0.96      0.92      0.94       695\n",
      "           2       0.78      0.92      0.84       159\n",
      "           3       0.92      0.94      0.93       275\n",
      "           4       0.95      0.81      0.87       224\n",
      "           5       0.64      0.85      0.73        66\n",
      "\n",
      "    accuracy                           0.92      2000\n",
      "   macro avg       0.87      0.90      0.88      2000\n",
      "weighted avg       0.93      0.92      0.92      2000\n",
      "\n"
     ]
    }
   ],
   "source": [
    "# Classification report for fine-tuned RoBERTa model. \n",
    "print(classification_report(df_test.label.tolist(), df_test.predictions.tolist()))"
   ]
  },
  {
   "cell_type": "code",
   "execution_count": null,
   "id": "8d1209cb",
   "metadata": {},
   "outputs": [],
   "source": []
  },
  {
   "cell_type": "markdown",
   "id": "e912ef2d",
   "metadata": {},
   "source": [
    "## T5 Fine-tuning\n",
    "\n",
    "Training - [code](https://medium.com/nlplanet/a-full-guide-to-finetuning-t5-for-text2text-and-building-a-demo-with-streamlit-c72009631887)"
   ]
  },
  {
   "cell_type": "code",
   "execution_count": 36,
   "id": "98ba4c2c",
   "metadata": {},
   "outputs": [],
   "source": [
    "import evaluate\n",
    "import torch\n",
    "\n",
    "from datasets import Dataset, DatasetDict\n",
    "from matplotlib import pyplot as plt\n",
    "from sklearn.metrics import classification_report\n",
    "from sklearn.metrics import confusion_matrix, ConfusionMatrixDisplay\n",
    "from transformers import AutoTokenizer\n",
    "from transformers import GenerationConfig\n",
    "from transformers import AutoModelForSeq2SeqLM, DataCollatorForSeq2Seq\n",
    "from transformers import Seq2SeqTrainingArguments, Seq2SeqTrainer\n",
    "from tqdm import tqdm"
   ]
  },
  {
   "cell_type": "code",
   "execution_count": 37,
   "id": "c488ab12",
   "metadata": {},
   "outputs": [
    {
     "name": "stdout",
     "output_type": "stream",
     "text": [
      "cuda:0\n"
     ]
    }
   ],
   "source": [
    "device = torch.device(\"cuda:0\" if torch.cuda.is_available() else \"cpu\")\n",
    "print(device)\n",
    "\n",
    "# model name\n",
    "base_model = \"t5-base\"\n",
    "tokenizer = AutoTokenizer.from_pretrained(base_model)\n",
    "prefix = \"emotion classification: \"\n",
    "max_input_length = 1024\n",
    "max_target_length = 64"
   ]
  },
  {
   "cell_type": "code",
   "execution_count": 38,
   "id": "4a36b5d1",
   "metadata": {},
   "outputs": [],
   "source": [
    "# creates pytorch dataset object for emotional data\n",
    "def return_datasets(df):\n",
    "    dset = Dataset.from_dict(\n",
    "        {\n",
    "            \"label\": df.label_text.tolist(),\n",
    "            \"text\": df.text.tolist(),\n",
    "        }\n",
    "    )\n",
    "    return dset"
   ]
  },
  {
   "cell_type": "code",
   "execution_count": 39,
   "id": "82aa46fc",
   "metadata": {},
   "outputs": [],
   "source": [
    "def preprocess_function(examples):\n",
    "    inputs = [prefix + doc for doc in examples[\"text\"]]\n",
    "    model_inputs = tokenizer(inputs, max_length=max_input_length, truncation=True)\n",
    "\n",
    "    # Setup the tokenizer for targets\n",
    "    labels = tokenizer(text_target=examples[\"label\"], max_length=max_target_length, \n",
    "                       truncation=True)\n",
    "\n",
    "    model_inputs[\"labels\"] = labels[\"input_ids\"]\n",
    "    return model_inputs"
   ]
  },
  {
   "cell_type": "code",
   "execution_count": 40,
   "id": "5666cb55",
   "metadata": {},
   "outputs": [],
   "source": [
    "# computes validation macro F1 score.\n",
    "metric = evaluate.load(\"f1\")\n",
    "dflabels = df[[\"label\", \"label_text\"]].drop_duplicates()\n",
    "label2id = {i: k for i, k in zip(dflabels.label_text.tolist(), dflabels.label.tolist())}\n",
    "\n",
    "\n",
    "def label_to_id(label):\n",
    "    try:\n",
    "        out_ = label2id[label]\n",
    "    except KeyError:\n",
    "        out_ = 10\n",
    "    return out_\n",
    "\n",
    "\n",
    "def compute_metrics(eval_pred):\n",
    "    predictions, labels = eval_pred\n",
    "    decoded_preds = tokenizer.batch_decode(predictions, skip_special_tokens=True)\n",
    "    # Replace -100 in the labels as we can't decode them.\n",
    "    labels = np.where(labels != -100, labels, tokenizer.pad_token_id)\n",
    "    decoded_labels = tokenizer.batch_decode(labels, skip_special_tokens=True)\n",
    "    \n",
    "    decoded_preds = [label_to_id(pred.strip()) for pred in decoded_preds]\n",
    "    decoded_labels = [label_to_id(label.strip()) for label in decoded_labels]\n",
    "    \n",
    "    return metric.compute(predictions=decoded_preds, references=decoded_labels, average=\"macro\")"
   ]
  },
  {
   "cell_type": "code",
   "execution_count": 52,
   "id": "e7ce4313",
   "metadata": {},
   "outputs": [
    {
     "name": "stderr",
     "output_type": "stream",
     "text": [
      "Map: 100%|██████████████████████| 16000/16000 [00:00<00:00, 40081.17 examples/s]\n",
      "Map: 100%|████████████████████████| 2000/2000 [00:00<00:00, 30800.38 examples/s]\n",
      "Map: 100%|████████████████████████| 2000/2000 [00:00<00:00, 31777.08 examples/s]\n"
     ]
    }
   ],
   "source": [
    "raw_datasets = DatasetDict(\n",
    "    {\n",
    "        \"train\": return_datasets(df),\n",
    "        \"validation\": return_datasets(df_val),\n",
    "        \"test\": return_datasets(df_test)\n",
    "    }\n",
    ")\n",
    "\n",
    "# add prefix to the text\n",
    "tokenized_datasets = raw_datasets.map(preprocess_function, batched=True)\n",
    "tokenized_datasets = tokenized_datasets.remove_columns(raw_datasets[\"train\"].column_names)"
   ]
  },
  {
   "cell_type": "markdown",
   "id": "de59f8b8",
   "metadata": {},
   "source": [
    "### Fine-Tune"
   ]
  },
  {
   "cell_type": "code",
   "execution_count": 92,
   "id": "3a08c6df",
   "metadata": {},
   "outputs": [],
   "source": [
    "model = AutoModelForSeq2SeqLM.from_pretrained(base_model)"
   ]
  },
  {
   "cell_type": "code",
   "execution_count": 93,
   "id": "df8c0bb5",
   "metadata": {},
   "outputs": [],
   "source": [
    "batch_size = 16\n",
    "args = Seq2SeqTrainingArguments(\n",
    "    \"./fine_tuning/t5/\",\n",
    "    evaluation_strategy=\"steps\",\n",
    "    learning_rate=2e-5,\n",
    "    per_device_train_batch_size=batch_size,\n",
    "    per_device_eval_batch_size=batch_size,\n",
    "    weight_decay=0.01,\n",
    "    save_total_limit=3,\n",
    "    num_train_epochs=10,\n",
    "    predict_with_generate=True,\n",
    "    fp16=True,\n",
    "    push_to_hub=False,\n",
    ")"
   ]
  },
  {
   "cell_type": "code",
   "execution_count": 94,
   "id": "c8d21002",
   "metadata": {},
   "outputs": [],
   "source": [
    "data_collator = DataCollatorForSeq2Seq(tokenizer, model=model)"
   ]
  },
  {
   "cell_type": "code",
   "execution_count": 95,
   "id": "bac7daf7",
   "metadata": {},
   "outputs": [
    {
     "name": "stderr",
     "output_type": "stream",
     "text": [
      "/home/diadochus/anaconda3/envs/hug/lib/python3.12/site-packages/accelerate/accelerator.py:432: FutureWarning: Passing the following arguments to `Accelerator` is deprecated and will be removed in version 1.0 of Accelerate: dict_keys(['dispatch_batches', 'split_batches', 'even_batches', 'use_seedable_sampler']). Please pass an `accelerate.DataLoaderConfiguration` instead: \n",
      "dataloader_config = DataLoaderConfiguration(dispatch_batches=None, split_batches=False, even_batches=True, use_seedable_sampler=True)\n",
      "  warnings.warn(\n"
     ]
    }
   ],
   "source": [
    "trainer = Seq2SeqTrainer(\n",
    "    model,\n",
    "    args,\n",
    "    train_dataset=tokenized_datasets[\"train\"],\n",
    "    eval_dataset=tokenized_datasets[\"validation\"],\n",
    "    data_collator=data_collator,\n",
    "    tokenizer=tokenizer,\n",
    "    compute_metrics=compute_metrics\n",
    ")"
   ]
  },
  {
   "cell_type": "code",
   "execution_count": 96,
   "id": "4f6c6ab0",
   "metadata": {},
   "outputs": [
    {
     "data": {
      "text/html": [
       "\n",
       "    <div>\n",
       "      \n",
       "      <progress value='10000' max='10000' style='width:300px; height:20px; vertical-align: middle;'></progress>\n",
       "      [10000/10000 17:37, Epoch 10/10]\n",
       "    </div>\n",
       "    <table border=\"1\" class=\"dataframe\">\n",
       "  <thead>\n",
       " <tr style=\"text-align: left;\">\n",
       "      <th>Step</th>\n",
       "      <th>Training Loss</th>\n",
       "      <th>Validation Loss</th>\n",
       "      <th>F1</th>\n",
       "    </tr>\n",
       "  </thead>\n",
       "  <tbody>\n",
       "    <tr>\n",
       "      <td>500</td>\n",
       "      <td>0.894500</td>\n",
       "      <td>0.311162</td>\n",
       "      <td>0.624758</td>\n",
       "    </tr>\n",
       "    <tr>\n",
       "      <td>1000</td>\n",
       "      <td>0.327800</td>\n",
       "      <td>0.195552</td>\n",
       "      <td>0.834654</td>\n",
       "    </tr>\n",
       "    <tr>\n",
       "      <td>1500</td>\n",
       "      <td>0.224100</td>\n",
       "      <td>0.161413</td>\n",
       "      <td>0.863913</td>\n",
       "    </tr>\n",
       "    <tr>\n",
       "      <td>2000</td>\n",
       "      <td>0.182600</td>\n",
       "      <td>0.126179</td>\n",
       "      <td>0.884156</td>\n",
       "    </tr>\n",
       "    <tr>\n",
       "      <td>2500</td>\n",
       "      <td>0.140300</td>\n",
       "      <td>0.107012</td>\n",
       "      <td>0.893845</td>\n",
       "    </tr>\n",
       "    <tr>\n",
       "      <td>3000</td>\n",
       "      <td>0.126500</td>\n",
       "      <td>0.094806</td>\n",
       "      <td>0.902882</td>\n",
       "    </tr>\n",
       "    <tr>\n",
       "      <td>3500</td>\n",
       "      <td>0.103500</td>\n",
       "      <td>0.099679</td>\n",
       "      <td>0.896506</td>\n",
       "    </tr>\n",
       "    <tr>\n",
       "      <td>4000</td>\n",
       "      <td>0.106600</td>\n",
       "      <td>0.091202</td>\n",
       "      <td>0.908924</td>\n",
       "    </tr>\n",
       "    <tr>\n",
       "      <td>4500</td>\n",
       "      <td>0.091800</td>\n",
       "      <td>0.083066</td>\n",
       "      <td>0.911105</td>\n",
       "    </tr>\n",
       "    <tr>\n",
       "      <td>5000</td>\n",
       "      <td>0.087400</td>\n",
       "      <td>0.080702</td>\n",
       "      <td>0.901221</td>\n",
       "    </tr>\n",
       "    <tr>\n",
       "      <td>5500</td>\n",
       "      <td>0.080700</td>\n",
       "      <td>0.075558</td>\n",
       "      <td>0.908840</td>\n",
       "    </tr>\n",
       "    <tr>\n",
       "      <td>6000</td>\n",
       "      <td>0.078100</td>\n",
       "      <td>0.072480</td>\n",
       "      <td>0.908441</td>\n",
       "    </tr>\n",
       "    <tr>\n",
       "      <td>6500</td>\n",
       "      <td>0.073400</td>\n",
       "      <td>0.070313</td>\n",
       "      <td>0.907929</td>\n",
       "    </tr>\n",
       "    <tr>\n",
       "      <td>7000</td>\n",
       "      <td>0.075000</td>\n",
       "      <td>0.067000</td>\n",
       "      <td>0.910386</td>\n",
       "    </tr>\n",
       "    <tr>\n",
       "      <td>7500</td>\n",
       "      <td>0.064400</td>\n",
       "      <td>0.068462</td>\n",
       "      <td>0.907704</td>\n",
       "    </tr>\n",
       "    <tr>\n",
       "      <td>8000</td>\n",
       "      <td>0.068000</td>\n",
       "      <td>0.067390</td>\n",
       "      <td>0.911866</td>\n",
       "    </tr>\n",
       "    <tr>\n",
       "      <td>8500</td>\n",
       "      <td>0.068700</td>\n",
       "      <td>0.066463</td>\n",
       "      <td>0.909928</td>\n",
       "    </tr>\n",
       "    <tr>\n",
       "      <td>9000</td>\n",
       "      <td>0.064100</td>\n",
       "      <td>0.064855</td>\n",
       "      <td>0.907849</td>\n",
       "    </tr>\n",
       "    <tr>\n",
       "      <td>9500</td>\n",
       "      <td>0.064700</td>\n",
       "      <td>0.064867</td>\n",
       "      <td>0.906741</td>\n",
       "    </tr>\n",
       "    <tr>\n",
       "      <td>10000</td>\n",
       "      <td>0.068700</td>\n",
       "      <td>0.064859</td>\n",
       "      <td>0.906741</td>\n",
       "    </tr>\n",
       "  </tbody>\n",
       "</table><p>"
      ],
      "text/plain": [
       "<IPython.core.display.HTML object>"
      ]
     },
     "metadata": {},
     "output_type": "display_data"
    },
    {
     "name": "stderr",
     "output_type": "stream",
     "text": [
      "/home/diadochus/anaconda3/envs/hug/lib/python3.12/site-packages/transformers/generation/utils.py:1178: UserWarning: Using the model-agnostic default `max_length` (=20) to control the generation length. We recommend setting `max_new_tokens` to control the maximum length of the generation.\n",
      "  warnings.warn(\n",
      "/home/diadochus/anaconda3/envs/hug/lib/python3.12/site-packages/transformers/generation/utils.py:1178: UserWarning: Using the model-agnostic default `max_length` (=20) to control the generation length. We recommend setting `max_new_tokens` to control the maximum length of the generation.\n",
      "  warnings.warn(\n",
      "/home/diadochus/anaconda3/envs/hug/lib/python3.12/site-packages/transformers/generation/utils.py:1178: UserWarning: Using the model-agnostic default `max_length` (=20) to control the generation length. We recommend setting `max_new_tokens` to control the maximum length of the generation.\n",
      "  warnings.warn(\n",
      "/home/diadochus/anaconda3/envs/hug/lib/python3.12/site-packages/transformers/generation/utils.py:1178: UserWarning: Using the model-agnostic default `max_length` (=20) to control the generation length. We recommend setting `max_new_tokens` to control the maximum length of the generation.\n",
      "  warnings.warn(\n",
      "/home/diadochus/anaconda3/envs/hug/lib/python3.12/site-packages/transformers/generation/utils.py:1178: UserWarning: Using the model-agnostic default `max_length` (=20) to control the generation length. We recommend setting `max_new_tokens` to control the maximum length of the generation.\n",
      "  warnings.warn(\n",
      "/home/diadochus/anaconda3/envs/hug/lib/python3.12/site-packages/transformers/generation/utils.py:1178: UserWarning: Using the model-agnostic default `max_length` (=20) to control the generation length. We recommend setting `max_new_tokens` to control the maximum length of the generation.\n",
      "  warnings.warn(\n",
      "Checkpoint destination directory ./fine_tuning/t5/checkpoint-3000 already exists and is non-empty. Saving will proceed but saved results may be invalid.\n",
      "/home/diadochus/anaconda3/envs/hug/lib/python3.12/site-packages/transformers/generation/utils.py:1178: UserWarning: Using the model-agnostic default `max_length` (=20) to control the generation length. We recommend setting `max_new_tokens` to control the maximum length of the generation.\n",
      "  warnings.warn(\n",
      "Checkpoint destination directory ./fine_tuning/t5/checkpoint-3500 already exists and is non-empty. Saving will proceed but saved results may be invalid.\n",
      "/home/diadochus/anaconda3/envs/hug/lib/python3.12/site-packages/transformers/generation/utils.py:1178: UserWarning: Using the model-agnostic default `max_length` (=20) to control the generation length. We recommend setting `max_new_tokens` to control the maximum length of the generation.\n",
      "  warnings.warn(\n",
      "Checkpoint destination directory ./fine_tuning/t5/checkpoint-4000 already exists and is non-empty. Saving will proceed but saved results may be invalid.\n",
      "/home/diadochus/anaconda3/envs/hug/lib/python3.12/site-packages/transformers/generation/utils.py:1178: UserWarning: Using the model-agnostic default `max_length` (=20) to control the generation length. We recommend setting `max_new_tokens` to control the maximum length of the generation.\n",
      "  warnings.warn(\n",
      "/home/diadochus/anaconda3/envs/hug/lib/python3.12/site-packages/transformers/generation/utils.py:1178: UserWarning: Using the model-agnostic default `max_length` (=20) to control the generation length. We recommend setting `max_new_tokens` to control the maximum length of the generation.\n",
      "  warnings.warn(\n",
      "/home/diadochus/anaconda3/envs/hug/lib/python3.12/site-packages/transformers/generation/utils.py:1178: UserWarning: Using the model-agnostic default `max_length` (=20) to control the generation length. We recommend setting `max_new_tokens` to control the maximum length of the generation.\n",
      "  warnings.warn(\n",
      "/home/diadochus/anaconda3/envs/hug/lib/python3.12/site-packages/transformers/generation/utils.py:1178: UserWarning: Using the model-agnostic default `max_length` (=20) to control the generation length. We recommend setting `max_new_tokens` to control the maximum length of the generation.\n",
      "  warnings.warn(\n",
      "/home/diadochus/anaconda3/envs/hug/lib/python3.12/site-packages/transformers/generation/utils.py:1178: UserWarning: Using the model-agnostic default `max_length` (=20) to control the generation length. We recommend setting `max_new_tokens` to control the maximum length of the generation.\n",
      "  warnings.warn(\n",
      "/home/diadochus/anaconda3/envs/hug/lib/python3.12/site-packages/transformers/generation/utils.py:1178: UserWarning: Using the model-agnostic default `max_length` (=20) to control the generation length. We recommend setting `max_new_tokens` to control the maximum length of the generation.\n",
      "  warnings.warn(\n",
      "/home/diadochus/anaconda3/envs/hug/lib/python3.12/site-packages/transformers/generation/utils.py:1178: UserWarning: Using the model-agnostic default `max_length` (=20) to control the generation length. We recommend setting `max_new_tokens` to control the maximum length of the generation.\n",
      "  warnings.warn(\n",
      "/home/diadochus/anaconda3/envs/hug/lib/python3.12/site-packages/transformers/generation/utils.py:1178: UserWarning: Using the model-agnostic default `max_length` (=20) to control the generation length. We recommend setting `max_new_tokens` to control the maximum length of the generation.\n",
      "  warnings.warn(\n",
      "/home/diadochus/anaconda3/envs/hug/lib/python3.12/site-packages/transformers/generation/utils.py:1178: UserWarning: Using the model-agnostic default `max_length` (=20) to control the generation length. We recommend setting `max_new_tokens` to control the maximum length of the generation.\n",
      "  warnings.warn(\n",
      "/home/diadochus/anaconda3/envs/hug/lib/python3.12/site-packages/transformers/generation/utils.py:1178: UserWarning: Using the model-agnostic default `max_length` (=20) to control the generation length. We recommend setting `max_new_tokens` to control the maximum length of the generation.\n",
      "  warnings.warn(\n",
      "/home/diadochus/anaconda3/envs/hug/lib/python3.12/site-packages/transformers/generation/utils.py:1178: UserWarning: Using the model-agnostic default `max_length` (=20) to control the generation length. We recommend setting `max_new_tokens` to control the maximum length of the generation.\n",
      "  warnings.warn(\n",
      "/home/diadochus/anaconda3/envs/hug/lib/python3.12/site-packages/transformers/generation/utils.py:1178: UserWarning: Using the model-agnostic default `max_length` (=20) to control the generation length. We recommend setting `max_new_tokens` to control the maximum length of the generation.\n",
      "  warnings.warn(\n"
     ]
    },
    {
     "data": {
      "text/plain": [
       "TrainOutput(global_step=10000, training_loss=0.1495435489654541, metrics={'train_runtime': 1057.6915, 'train_samples_per_second': 151.273, 'train_steps_per_second': 9.455, 'total_flos': 1.074405339242496e+16, 'train_loss': 0.1495435489654541, 'epoch': 10.0})"
      ]
     },
     "execution_count": 96,
     "metadata": {},
     "output_type": "execute_result"
    }
   ],
   "source": [
    "trainer.train()"
   ]
  },
  {
   "cell_type": "markdown",
   "id": "64ba0c29",
   "metadata": {},
   "source": [
    "### Evaluate"
   ]
  },
  {
   "cell_type": "code",
   "execution_count": 41,
   "id": "ab6f44ff",
   "metadata": {},
   "outputs": [],
   "source": [
    "# converts a list to list of lists\n",
    "def get_chunks(arr, chunk_size):\n",
    "    output = []\n",
    "    for i in range(0, len(arr), chunk_size):\n",
    "        output.append(arr[i:i+chunk_size])\n",
    "        \n",
    "    return output"
   ]
  },
  {
   "cell_type": "code",
   "execution_count": 42,
   "id": "72d712b0",
   "metadata": {},
   "outputs": [],
   "source": [
    "sentences_chunks = get_chunks(df_test.text.tolist(), chunk_size=50)"
   ]
  },
  {
   "cell_type": "code",
   "execution_count": 43,
   "id": "5d012167",
   "metadata": {},
   "outputs": [],
   "source": [
    "# load fine-tuned model\n",
    "model = AutoModelForSeq2SeqLM.from_pretrained(\"./fine_tuning/t5/checkpoint-9000/\")"
   ]
  },
  {
   "cell_type": "code",
   "execution_count": 44,
   "id": "ec83fe06",
   "metadata": {},
   "outputs": [],
   "source": [
    "gen_config = GenerationConfig(\n",
    "    max_length=max_target_length,\n",
    "    do_sample=False\n",
    ")"
   ]
  },
  {
   "cell_type": "code",
   "execution_count": 45,
   "id": "6da98542",
   "metadata": {},
   "outputs": [
    {
     "name": "stderr",
     "output_type": "stream",
     "text": [
      "100%|███████████████████████████████████████████| 40/40 [00:44<00:00,  1.10s/it]\n"
     ]
    }
   ],
   "source": [
    "# gather predictions\n",
    "result = []\n",
    "\n",
    "model.eval()\n",
    "with torch.no_grad():\n",
    "    for chunk in tqdm(sentences_chunks):\n",
    "        inputs = tokenizer([prefix + sentence for sentence in chunk], return_tensors=\"pt\", padding=True)\n",
    "        # inputs.to(device)\n",
    "\n",
    "        output_sequences = model.generate(\n",
    "            input_ids=inputs[\"input_ids\"],\n",
    "            attention_mask=inputs[\"attention_mask\"],\n",
    "            generation_config=gen_config,\n",
    "            # do_sample=False,  # disable sampling to test if batching affects output\n",
    "        )\n",
    "\n",
    "        result = result + tokenizer.batch_decode(output_sequences, skip_special_tokens=True)"
   ]
  },
  {
   "cell_type": "code",
   "execution_count": 46,
   "id": "7b796863",
   "metadata": {},
   "outputs": [],
   "source": [
    "df_test = df_test.assign(predictions=result)"
   ]
  },
  {
   "cell_type": "code",
   "execution_count": 47,
   "id": "06c68c84",
   "metadata": {},
   "outputs": [
    {
     "name": "stdout",
     "output_type": "stream",
     "text": [
      "              precision    recall  f1-score   support\n",
      "\n",
      "       anger       0.92      0.92      0.92       275\n",
      "        fear       0.90      0.85      0.88       224\n",
      "         joy       0.96      0.93      0.94       695\n",
      "        love       0.79      0.85      0.82       159\n",
      "     sadness       0.95      0.96      0.96       581\n",
      "    surprise       0.68      0.82      0.74        66\n",
      "\n",
      "    accuracy                           0.92      2000\n",
      "   macro avg       0.87      0.89      0.88      2000\n",
      "weighted avg       0.92      0.92      0.92      2000\n",
      "\n"
     ]
    }
   ],
   "source": [
    "# Classification report for fine-tuned T5 model. \n",
    "print(classification_report(df_test.label_text.tolist(), df_test.predictions.tolist()))"
   ]
  },
  {
   "cell_type": "code",
   "execution_count": 51,
   "id": "915161c1",
   "metadata": {},
   "outputs": [],
   "source": [
    "labels = df_test.label_text.unique()"
   ]
  },
  {
   "cell_type": "code",
   "execution_count": 60,
   "id": "1f1a3828",
   "metadata": {},
   "outputs": [],
   "source": [
    "cf_matrix = confusion_matrix(\n",
    "    df_test.label_text.tolist(), \n",
    "    df_test.predictions.tolist(), \n",
    "    labels=labels,\n",
    ")"
   ]
  },
  {
   "cell_type": "code",
   "execution_count": 61,
   "id": "7875e490",
   "metadata": {},
   "outputs": [
    {
     "data": {
      "image/png": "[encoded data removed]",
      "text/plain": [
       "<Figure size 640x480 with 2 Axes>"
      ]
     },
     "metadata": {},
     "output_type": "display_data"
    }
   ],
   "source": [
    "disp = ConfusionMatrixDisplay(confusion_matrix=cf_matrix, display_labels=labels) \n",
    "disp.plot() \n",
    "plt.show()"
   ]
  },
  {
   "cell_type": "code",
   "execution_count": null,
   "id": "94339d8e",
   "metadata": {},
   "outputs": [],
   "source": []
  }
 ],
 "metadata": {
  "kernelspec": {
   "display_name": "Python [conda env:hug]",
   "language": "python",
   "name": "conda-env-hug-py"
  },
  "language_info": {
   "codemirror_mode": {
    "name": "ipython",
    "version": 3
   },
   "file_extension": ".py",
   "mimetype": "text/x-python",
   "name": "python",
   "nbconvert_exporter": "python",
   "pygments_lexer": "ipython3",
   "version": "3.12.2"
  }
 },
 "nbformat": 4,
 "nbformat_minor": 5
}
